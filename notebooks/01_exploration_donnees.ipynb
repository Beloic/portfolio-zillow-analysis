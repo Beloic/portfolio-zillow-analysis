{
  "cells": [
    {
      "cell_type": "markdown",
      "metadata": {},
      "source": [
        "# 📊 Exploration des Données - Zillow Home Value Index\n",
        "\n",
        "Ce notebook présente l'exploration initiale du dataset Zillow Home Value Index.\n",
        "\n",
        "## Objectifs :\n",
        "- Comprendre la structure des données\n",
        "- Analyser la qualité des données\n",
        "- Identifier les patterns et tendances\n",
        "- Préparer les données pour les analyses suivantes\n"
      ]
    },
    {
      "cell_type": "code",
      "execution_count": null,
      "metadata": {},
      "outputs": [],
      "source": [
        "# Importation des bibliothèques nécessaires\n",
        "import pandas as pd\n",
        "import numpy as np\n",
        "import matplotlib.pyplot as plt\n",
        "import seaborn as sns\n",
        "import plotly.express as px\n",
        "import plotly.graph_objects as go\n",
        "from plotly.subplots import make_subplots\n",
        "import warnings\n",
        "warnings.filterwarnings('ignore')\n",
        "\n",
        "# Configuration des graphiques\n",
        "plt.style.use('seaborn-v0_8')\n",
        "sns.set_palette(\"husl\")\n",
        "pd.set_option('display.max_columns', None)\n",
        "pd.set_option('display.max_rows', 100)\n"
      ]
    },
    {
      "cell_type": "markdown",
      "metadata": {},
      "source": [
        "## 1. Chargement des données\n"
      ]
    },
    {
      "cell_type": "code",
      "execution_count": null,
      "metadata": {},
      "outputs": [],
      "source": [
        "# Chargement du dataset\n",
        "df = pd.read_csv('../data/Zillow_Home_Value_Index.csv')\n",
        "\n",
        "print(f\"📈 Dimensions du dataset : {df.shape}\")\n",
        "print(f\"📅 Période couverte : {df.columns[9]} à {df.columns[-1]}\")\n",
        "print(f\"🏠 Nombre de régions : {len(df)}\")\n"
      ]
    }
  ],
  "metadata": {
    "language_info": {
      "name": "python"
    }
  },
  "nbformat": 4,
  "nbformat_minor": 2
}
