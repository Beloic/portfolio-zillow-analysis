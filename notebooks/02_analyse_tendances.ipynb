{
  "cells": [
    {
      "cell_type": "markdown",
      "metadata": {},
      "source": [
        "# 📈 Analyse des Tendances - Zillow Home Value Index\n",
        "\n",
        "Ce notebook présente une analyse approfondie des tendances des prix immobiliers.\n",
        "\n",
        "## Objectifs :\n",
        "- Analyser l'évolution temporelle des prix\n",
        "- Identifier les cycles immobiliers\n",
        "- Comparer les performances régionales\n",
        "- Détecter les patterns saisonniers\n"
      ]
    },
    {
      "cell_type": "code",
      "execution_count": null,
      "metadata": {},
      "outputs": [],
      "source": [
        "# Importation des modules personnalisés\n",
        "import sys\n",
        "sys.path.append('../src')\n",
        "\n",
        "from data_processing import ZillowDataProcessor\n",
        "from visualization import ZillowVisualizer\n",
        "\n",
        "# Importation des bibliothèques standards\n",
        "import pandas as pd\n",
        "import numpy as np\n",
        "import matplotlib.pyplot as plt\n",
        "import seaborn as sns\n",
        "import plotly.express as px\n",
        "import plotly.graph_objects as go\n",
        "from plotly.subplots import make_subplots\n",
        "import warnings\n",
        "warnings.filterwarnings('ignore')\n",
        "\n",
        "# Configuration\n",
        "plt.style.use('seaborn-v0_8')\n",
        "sns.set_palette(\"husl\")\n",
        "pd.set_option('display.max_columns', None)\n"
      ]
    },
    {
      "cell_type": "markdown",
      "metadata": {},
      "source": [
        "## 1. Chargement et préparation des données\n"
      ]
    },
    {
      "cell_type": "code",
      "execution_count": null,
      "metadata": {},
      "outputs": [],
      "source": [
        "# Initialisation du processeur de données\n",
        "processor = ZillowDataProcessor('../data/Zillow_Home_Value_Index.csv')\n",
        "\n",
        "# Chargement des données\n",
        "df = processor.load_data()\n",
        "\n",
        "# Nettoyage des données\n",
        "df_clean = processor.clean_data(fill_method='interpolate', min_non_null_ratio=0.7)\n",
        "\n",
        "# Calcul des métriques de croissance\n",
        "df_metrics = processor.calculate_growth_metrics(df_clean)\n",
        "\n",
        "print(f\"✅ Données préparées: {len(df_metrics)} régions avec métriques calculées\")\n",
        "print(f\"📅 Période: {processor.price_columns[0]} à {processor.price_columns[-1]}\")\n"
      ]
    }
  ],
  "metadata": {
    "language_info": {
      "name": "python"
    }
  },
  "nbformat": 4,
  "nbformat_minor": 2
}
