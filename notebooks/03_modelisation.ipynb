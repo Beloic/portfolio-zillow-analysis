{
  "cells": [
    {
      "cell_type": "markdown",
      "metadata": {},
      "source": [
        "# 🤖 Machine Learning & Predictive Modeling - Zillow Home Value Index\n",
        "\n",
        "This notebook demonstrates the creation and evaluation of real estate price prediction models using advanced machine learning techniques.\n",
        "\n",
        "## Objectives:\n",
        "- Develop and compare multiple ML algorithms\n",
        "- Predict future real estate prices\n",
        "- Analyze feature importance and drivers\n",
        "- Evaluate model performance with cross-validation\n",
        "- Create production-ready predictive models\n"
      ]
    },
    {
      "cell_type": "code",
      "execution_count": null,
      "metadata": {},
      "outputs": [],
      "source": [
        "# Import custom modules\n",
        "import sys\n",
        "sys.path.append('../src')\n",
        "\n",
        "from data_processing import ZillowDataProcessor\n",
        "from visualization import ZillowVisualizer\n",
        "from models import ZillowPredictor\n",
        "\n",
        "# Import standard libraries\n",
        "import pandas as pd\n",
        "import numpy as np\n",
        "import matplotlib.pyplot as plt\n",
        "import seaborn as sns\n",
        "import warnings\n",
        "warnings.filterwarnings('ignore')\n",
        "\n",
        "# Configuration\n",
        "plt.style.use('seaborn-v0_8')\n",
        "sns.set_palette(\"husl\")\n",
        "pd.set_option('display.max_columns', None)\n"
      ]
    },
    {
      "cell_type": "markdown",
      "metadata": {},
      "source": [
        "## 1. Data Preparation for Machine Learning\n"
      ]
    },
    {
      "cell_type": "code",
      "execution_count": null,
      "metadata": {},
      "outputs": [],
      "source": [
        "# Load and prepare data for modeling\n",
        "processor = ZillowDataProcessor('../data/Zillow_Home_Value_Index_sample.csv')\n",
        "df = processor.load_data()\n",
        "df_clean = processor.clean_data(fill_method='interpolate', min_non_null_ratio=0.8)\n",
        "df_metrics = processor.calculate_growth_metrics(df_clean)\n",
        "\n",
        "print(f\"✅ Data prepared for modeling: {len(df_metrics)} regions\")\n",
        "print(f\"📊 Available columns: {list(df_metrics.columns)}\")\n"
      ]
    },
    {
      "cell_type": "markdown",
      "metadata": {},
      "source": [
        "## 2. Feature Engineering & Model Training\n"
      ]
    },
    {
      "cell_type": "code",
      "execution_count": null,
      "metadata": {},
      "outputs": [],
      "source": [
        "# Initialize the predictor and prepare features\n",
        "predictor = ZillowPredictor()\n",
        "\n",
        "# Get price columns (all date columns)\n",
        "price_columns = [col for col in df_metrics.columns if col.startswith('20')]\n",
        "print(f\"📅 Price columns found: {len(price_columns)} months\")\n",
        "\n",
        "# Prepare features for latest price prediction\n",
        "X, y = predictor.prepare_features(df_metrics, price_columns, target_period='latest')\n",
        "\n",
        "# Display feature information\n",
        "print(f\"\\n📊 Feature Matrix Shape: {X.shape}\")\n",
        "print(f\"🎯 Target Variable Shape: {y.shape}\")\n",
        "print(f\"📈 Features: {list(X.columns)}\")\n"
      ]
    },
    {
      "cell_type": "code",
      "execution_count": null,
      "metadata": {},
      "outputs": [],
      "source": [
        "# Train multiple models and compare performance\n",
        "results = predictor.train_models(X, y, test_size=0.2, random_state=42)\n",
        "\n",
        "# Display model performance summary\n",
        "print(\"\\n🏆 Model Performance Summary:\")\n",
        "print(\"=\" * 50)\n",
        "for model_name, result in results.items():\n",
        "    print(f\"{model_name:20} | R²: {result['r2']:.4f} | RMSE: {result['rmse']:.0f} | MAE: {result['mae']:.0f}\")\n"
      ]
    },
    {
      "cell_type": "markdown",
      "metadata": {},
      "source": [
        "## 3. Model Evaluation & Visualization\n"
      ]
    },
    {
      "cell_type": "code",
      "execution_count": null,
      "metadata": {},
      "outputs": [],
      "source": [
        "# Create comprehensive model comparison visualizations\n",
        "predictor.plot_model_comparison(save_path='../results/visualizations/model_comparison.png')\n"
      ]
    },
    {
      "cell_type": "code",
      "execution_count": null,
      "metadata": {},
      "outputs": [],
      "source": [
        "# Analyze feature importance for the best performing model\n",
        "predictor.plot_feature_importance(save_path='../results/visualizations/feature_importance.png')\n"
      ]
    },
    {
      "cell_type": "markdown",
      "metadata": {},
      "source": []
    }
  ],
  "metadata": {
    "language_info": {
      "name": "python"
    }
  },
  "nbformat": 4,
  "nbformat_minor": 2
}
