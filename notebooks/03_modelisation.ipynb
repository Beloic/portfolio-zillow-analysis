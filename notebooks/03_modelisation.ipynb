{
  "cells": [
    {
      "cell_type": "markdown",
      "metadata": {},
      "source": [
        "# 🤖 Modélisation et Prédiction - Zillow Home Value Index\n",
        "\n",
        "Ce notebook présente la création et l'évaluation de modèles de prédiction des prix immobiliers.\n",
        "\n",
        "## Objectifs :\n",
        "- Développer des modèles de machine learning\n",
        "- Prédire les prix immobiliers futurs\n",
        "- Analyser l'importance des caractéristiques\n",
        "- Comparer les performances des modèles\n"
      ]
    },
    {
      "cell_type": "code",
      "execution_count": null,
      "metadata": {},
      "outputs": [],
      "source": [
        "# Importation des modules personnalisés\n",
        "import sys\n",
        "sys.path.append('../src')\n",
        "\n",
        "from data_processing import ZillowDataProcessor\n",
        "from visualization import ZillowVisualizer\n",
        "from models import ZillowPredictor\n",
        "\n",
        "# Importation des bibliothèques standards\n",
        "import pandas as pd\n",
        "import numpy as np\n",
        "import matplotlib.pyplot as plt\n",
        "import seaborn as sns\n",
        "import warnings\n",
        "warnings.filterwarnings('ignore')\n",
        "\n",
        "# Configuration\n",
        "plt.style.use('seaborn-v0_8')\n",
        "sns.set_palette(\"husl\")\n",
        "pd.set_option('display.max_columns', None)\n"
      ]
    },
    {
      "cell_type": "markdown",
      "metadata": {},
      "source": [
        "## 1. Préparation des données pour la modélisation\n"
      ]
    },
    {
      "cell_type": "code",
      "execution_count": null,
      "metadata": {},
      "outputs": [],
      "source": [
        "# Chargement et préparation des données\n",
        "processor = ZillowDataProcessor('../data/Zillow_Home_Value_Index_sample.csv')\n",
        "df = processor.load_data()\n",
        "df_clean = processor.clean_data(fill_method='interpolate', min_non_null_ratio=0.8)\n",
        "df_metrics = processor.calculate_growth_metrics(df_clean)\n",
        "\n",
        "print(f\"✅ Données préparées pour la modélisation: {len(df_metrics)} régions\")\n",
        "print(f\"📊 Colonnes disponibles: {list(df_metrics.columns)}\")\n"
      ]
    }
  ],
  "metadata": {
    "language_info": {
      "name": "python"
    }
  },
  "nbformat": 4,
  "nbformat_minor": 2
}
